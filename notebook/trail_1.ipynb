{
 "cells": [
  {
   "cell_type": "code",
   "execution_count": 1,
   "metadata": {},
   "outputs": [],
   "source": [
    "import pandas as pd\n",
    "import numpy as np\n",
    "from pathlib import Path\n",
    "from sklearn.model_selection import train_test_split\n",
    "from sklearn.ensemble import RandomForestClassifier\n",
    "from sklearn.svm import SVC\n",
    "import sklearn\n",
    "import pickle\n",
    "from sklearn.impute import SimpleImputer\n",
    "from sklearn.metrics import accuracy_score"
   ]
  },
  {
   "cell_type": "code",
   "execution_count": 2,
   "metadata": {},
   "outputs": [
    {
     "data": {
      "text/plain": [
       "'1.0.2'"
      ]
     },
     "execution_count": 2,
     "metadata": {},
     "output_type": "execute_result"
    }
   ],
   "source": [
    "sklearn.__version__"
   ]
  },
  {
   "cell_type": "code",
   "execution_count": 13,
   "metadata": {},
   "outputs": [
    {
     "data": {
      "text/html": [
       "<div>\n",
       "<style scoped>\n",
       "    .dataframe tbody tr th:only-of-type {\n",
       "        vertical-align: middle;\n",
       "    }\n",
       "\n",
       "    .dataframe tbody tr th {\n",
       "        vertical-align: top;\n",
       "    }\n",
       "\n",
       "    .dataframe thead th {\n",
       "        text-align: right;\n",
       "    }\n",
       "</style>\n",
       "<table border=\"1\" class=\"dataframe\">\n",
       "  <thead>\n",
       "    <tr style=\"text-align: right;\">\n",
       "      <th></th>\n",
       "      <th>acc_x_mean</th>\n",
       "      <th>acc_y_mean</th>\n",
       "      <th>acc_z_mean</th>\n",
       "      <th>acc_x_std</th>\n",
       "      <th>acc_y_std</th>\n",
       "      <th>acc_z_std</th>\n",
       "      <th>acc_x_max</th>\n",
       "      <th>acc_y_max</th>\n",
       "      <th>acc_z_max</th>\n",
       "      <th>acc_x_min</th>\n",
       "      <th>...</th>\n",
       "      <th>gyro_x_std</th>\n",
       "      <th>gyro_y_std</th>\n",
       "      <th>gyro_z_std</th>\n",
       "      <th>gyro_x_max</th>\n",
       "      <th>gyro_y_max</th>\n",
       "      <th>gyro_z_max</th>\n",
       "      <th>gyro_x_min</th>\n",
       "      <th>gyro_y_min</th>\n",
       "      <th>gyro_z_min</th>\n",
       "      <th>activity</th>\n",
       "    </tr>\n",
       "  </thead>\n",
       "  <tbody>\n",
       "    <tr>\n",
       "      <th>0</th>\n",
       "      <td>0.807947</td>\n",
       "      <td>0.605079</td>\n",
       "      <td>-0.078861</td>\n",
       "      <td>0.340053</td>\n",
       "      <td>0.290071</td>\n",
       "      <td>0.311237</td>\n",
       "      <td>2.390305</td>\n",
       "      <td>2.311157</td>\n",
       "      <td>1.070602</td>\n",
       "      <td>-0.618698</td>\n",
       "      <td>...</td>\n",
       "      <td>1.079115</td>\n",
       "      <td>1.964364</td>\n",
       "      <td>0.702070</td>\n",
       "      <td>3.388801</td>\n",
       "      <td>6.080116</td>\n",
       "      <td>2.908103</td>\n",
       "      <td>-3.902423</td>\n",
       "      <td>-6.649853</td>\n",
       "      <td>-2.179657</td>\n",
       "      <td>downstairs</td>\n",
       "    </tr>\n",
       "    <tr>\n",
       "      <th>1</th>\n",
       "      <td>0.807947</td>\n",
       "      <td>0.605079</td>\n",
       "      <td>-0.078861</td>\n",
       "      <td>0.340053</td>\n",
       "      <td>0.290071</td>\n",
       "      <td>0.311237</td>\n",
       "      <td>2.390305</td>\n",
       "      <td>2.311157</td>\n",
       "      <td>1.070602</td>\n",
       "      <td>-0.618698</td>\n",
       "      <td>...</td>\n",
       "      <td>1.079115</td>\n",
       "      <td>1.964364</td>\n",
       "      <td>0.702070</td>\n",
       "      <td>3.388801</td>\n",
       "      <td>6.080116</td>\n",
       "      <td>2.908103</td>\n",
       "      <td>-3.902423</td>\n",
       "      <td>-6.649853</td>\n",
       "      <td>-2.179657</td>\n",
       "      <td>downstairs</td>\n",
       "    </tr>\n",
       "    <tr>\n",
       "      <th>2</th>\n",
       "      <td>-0.272239</td>\n",
       "      <td>1.026517</td>\n",
       "      <td>-0.092339</td>\n",
       "      <td>0.724730</td>\n",
       "      <td>1.149340</td>\n",
       "      <td>0.687125</td>\n",
       "      <td>2.807007</td>\n",
       "      <td>5.363983</td>\n",
       "      <td>2.053986</td>\n",
       "      <td>-4.010849</td>\n",
       "      <td>...</td>\n",
       "      <td>3.057738</td>\n",
       "      <td>2.963132</td>\n",
       "      <td>1.878728</td>\n",
       "      <td>6.223940</td>\n",
       "      <td>6.919963</td>\n",
       "      <td>4.481204</td>\n",
       "      <td>-9.524870</td>\n",
       "      <td>-11.997552</td>\n",
       "      <td>-6.496084</td>\n",
       "      <td>jogging</td>\n",
       "    </tr>\n",
       "    <tr>\n",
       "      <th>3</th>\n",
       "      <td>0.281158</td>\n",
       "      <td>0.358120</td>\n",
       "      <td>-0.898597</td>\n",
       "      <td>0.041880</td>\n",
       "      <td>0.036871</td>\n",
       "      <td>0.016954</td>\n",
       "      <td>0.527451</td>\n",
       "      <td>0.507019</td>\n",
       "      <td>-0.783539</td>\n",
       "      <td>0.040497</td>\n",
       "      <td>...</td>\n",
       "      <td>0.052375</td>\n",
       "      <td>0.033811</td>\n",
       "      <td>0.049603</td>\n",
       "      <td>0.591255</td>\n",
       "      <td>0.402753</td>\n",
       "      <td>0.714474</td>\n",
       "      <td>-0.736353</td>\n",
       "      <td>-0.333014</td>\n",
       "      <td>-0.590174</td>\n",
       "      <td>sitting</td>\n",
       "    </tr>\n",
       "    <tr>\n",
       "      <th>4</th>\n",
       "      <td>0.079849</td>\n",
       "      <td>1.003429</td>\n",
       "      <td>0.080250</td>\n",
       "      <td>0.071522</td>\n",
       "      <td>0.018363</td>\n",
       "      <td>0.053207</td>\n",
       "      <td>0.378998</td>\n",
       "      <td>1.373367</td>\n",
       "      <td>0.306076</td>\n",
       "      <td>-0.364960</td>\n",
       "      <td>...</td>\n",
       "      <td>0.087463</td>\n",
       "      <td>0.173388</td>\n",
       "      <td>0.062323</td>\n",
       "      <td>1.544325</td>\n",
       "      <td>1.254333</td>\n",
       "      <td>0.900430</td>\n",
       "      <td>-1.158551</td>\n",
       "      <td>-1.909183</td>\n",
       "      <td>-0.516644</td>\n",
       "      <td>standing</td>\n",
       "    </tr>\n",
       "  </tbody>\n",
       "</table>\n",
       "<p>5 rows × 25 columns</p>\n",
       "</div>"
      ],
      "text/plain": [
       "   acc_x_mean  acc_y_mean  acc_z_mean  acc_x_std  acc_y_std  acc_z_std  \\\n",
       "0    0.807947    0.605079   -0.078861   0.340053   0.290071   0.311237   \n",
       "1    0.807947    0.605079   -0.078861   0.340053   0.290071   0.311237   \n",
       "2   -0.272239    1.026517   -0.092339   0.724730   1.149340   0.687125   \n",
       "3    0.281158    0.358120   -0.898597   0.041880   0.036871   0.016954   \n",
       "4    0.079849    1.003429    0.080250   0.071522   0.018363   0.053207   \n",
       "\n",
       "   acc_x_max  acc_y_max  acc_z_max  acc_x_min  ...  gyro_x_std  gyro_y_std  \\\n",
       "0   2.390305   2.311157   1.070602  -0.618698  ...    1.079115    1.964364   \n",
       "1   2.390305   2.311157   1.070602  -0.618698  ...    1.079115    1.964364   \n",
       "2   2.807007   5.363983   2.053986  -4.010849  ...    3.057738    2.963132   \n",
       "3   0.527451   0.507019  -0.783539   0.040497  ...    0.052375    0.033811   \n",
       "4   0.378998   1.373367   0.306076  -0.364960  ...    0.087463    0.173388   \n",
       "\n",
       "   gyro_z_std  gyro_x_max  gyro_y_max  gyro_z_max  gyro_x_min  gyro_y_min  \\\n",
       "0    0.702070    3.388801    6.080116    2.908103   -3.902423   -6.649853   \n",
       "1    0.702070    3.388801    6.080116    2.908103   -3.902423   -6.649853   \n",
       "2    1.878728    6.223940    6.919963    4.481204   -9.524870  -11.997552   \n",
       "3    0.049603    0.591255    0.402753    0.714474   -0.736353   -0.333014   \n",
       "4    0.062323    1.544325    1.254333    0.900430   -1.158551   -1.909183   \n",
       "\n",
       "   gyro_z_min    activity  \n",
       "0   -2.179657  downstairs  \n",
       "1   -2.179657  downstairs  \n",
       "2   -6.496084     jogging  \n",
       "3   -0.590174     sitting  \n",
       "4   -0.516644    standing  \n",
       "\n",
       "[5 rows x 25 columns]"
      ]
     },
     "execution_count": 13,
     "metadata": {},
     "output_type": "execute_result"
    }
   ],
   "source": [
    "df = pd.read_csv(\"E:\\\\github_clone\\\\human-activity-recognition\\\\data\\\\compressed_data_1.csv\")\n",
    "df.head()"
   ]
  },
  {
   "cell_type": "code",
   "execution_count": 14,
   "metadata": {},
   "outputs": [
    {
     "name": "stdout",
     "output_type": "stream",
     "text": [
      "<class 'pandas.core.frame.DataFrame'>\n",
      "RangeIndex: 160 entries, 0 to 159\n",
      "Data columns (total 25 columns):\n",
      " #   Column       Non-Null Count  Dtype  \n",
      "---  ------       --------------  -----  \n",
      " 0   acc_x_mean   160 non-null    float64\n",
      " 1   acc_y_mean   160 non-null    float64\n",
      " 2   acc_z_mean   160 non-null    float64\n",
      " 3   acc_x_std    160 non-null    float64\n",
      " 4   acc_y_std    160 non-null    float64\n",
      " 5   acc_z_std    160 non-null    float64\n",
      " 6   acc_x_max    160 non-null    float64\n",
      " 7   acc_y_max    160 non-null    float64\n",
      " 8   acc_z_max    160 non-null    float64\n",
      " 9   acc_x_min    160 non-null    float64\n",
      " 10  acc_y_min    160 non-null    float64\n",
      " 11  acc_z_min    160 non-null    float64\n",
      " 12  gyro_x_mean  160 non-null    float64\n",
      " 13  gyro_y_mean  160 non-null    float64\n",
      " 14  gyro_z_mean  160 non-null    float64\n",
      " 15  gyro_x_std   160 non-null    float64\n",
      " 16  gyro_y_std   160 non-null    float64\n",
      " 17  gyro_z_std   160 non-null    float64\n",
      " 18  gyro_x_max   160 non-null    float64\n",
      " 19  gyro_y_max   160 non-null    float64\n",
      " 20  gyro_z_max   160 non-null    float64\n",
      " 21  gyro_x_min   160 non-null    float64\n",
      " 22  gyro_y_min   160 non-null    float64\n",
      " 23  gyro_z_min   160 non-null    float64\n",
      " 24  activity     160 non-null    object \n",
      "dtypes: float64(24), object(1)\n",
      "memory usage: 31.4+ KB\n"
     ]
    }
   ],
   "source": [
    "df.info()"
   ]
  },
  {
   "cell_type": "code",
   "execution_count": 15,
   "metadata": {},
   "outputs": [
    {
     "data": {
      "text/html": [
       "<div>\n",
       "<style scoped>\n",
       "    .dataframe tbody tr th:only-of-type {\n",
       "        vertical-align: middle;\n",
       "    }\n",
       "\n",
       "    .dataframe tbody tr th {\n",
       "        vertical-align: top;\n",
       "    }\n",
       "\n",
       "    .dataframe thead th {\n",
       "        text-align: right;\n",
       "    }\n",
       "</style>\n",
       "<table border=\"1\" class=\"dataframe\">\n",
       "  <thead>\n",
       "    <tr style=\"text-align: right;\">\n",
       "      <th></th>\n",
       "      <th>acc_x_mean</th>\n",
       "      <th>acc_y_mean</th>\n",
       "      <th>acc_z_mean</th>\n",
       "      <th>acc_x_std</th>\n",
       "      <th>acc_y_std</th>\n",
       "      <th>acc_z_std</th>\n",
       "      <th>acc_x_max</th>\n",
       "      <th>acc_y_max</th>\n",
       "      <th>acc_z_max</th>\n",
       "      <th>acc_x_min</th>\n",
       "      <th>...</th>\n",
       "      <th>gyro_z_mean</th>\n",
       "      <th>gyro_x_std</th>\n",
       "      <th>gyro_y_std</th>\n",
       "      <th>gyro_z_std</th>\n",
       "      <th>gyro_x_max</th>\n",
       "      <th>gyro_y_max</th>\n",
       "      <th>gyro_z_max</th>\n",
       "      <th>gyro_x_min</th>\n",
       "      <th>gyro_y_min</th>\n",
       "      <th>gyro_z_min</th>\n",
       "    </tr>\n",
       "  </thead>\n",
       "  <tbody>\n",
       "    <tr>\n",
       "      <th>count</th>\n",
       "      <td>160.000000</td>\n",
       "      <td>160.000000</td>\n",
       "      <td>160.000000</td>\n",
       "      <td>160.000000</td>\n",
       "      <td>160.000000</td>\n",
       "      <td>160.000000</td>\n",
       "      <td>160.000000</td>\n",
       "      <td>160.000000</td>\n",
       "      <td>160.000000</td>\n",
       "      <td>160.000000</td>\n",
       "      <td>...</td>\n",
       "      <td>160.000000</td>\n",
       "      <td>160.000000</td>\n",
       "      <td>160.000000</td>\n",
       "      <td>160.000000</td>\n",
       "      <td>160.000000</td>\n",
       "      <td>160.000000</td>\n",
       "      <td>160.000000</td>\n",
       "      <td>160.000000</td>\n",
       "      <td>160.000000</td>\n",
       "      <td>160.000000</td>\n",
       "    </tr>\n",
       "    <tr>\n",
       "      <th>mean</th>\n",
       "      <td>0.042038</td>\n",
       "      <td>0.668470</td>\n",
       "      <td>-0.055003</td>\n",
       "      <td>0.327866</td>\n",
       "      <td>0.489716</td>\n",
       "      <td>0.328942</td>\n",
       "      <td>1.814508</td>\n",
       "      <td>3.178337</td>\n",
       "      <td>1.693617</td>\n",
       "      <td>-1.646839</td>\n",
       "      <td>...</td>\n",
       "      <td>0.015588</td>\n",
       "      <td>1.150634</td>\n",
       "      <td>1.155353</td>\n",
       "      <td>0.846262</td>\n",
       "      <td>3.494694</td>\n",
       "      <td>5.069988</td>\n",
       "      <td>2.954156</td>\n",
       "      <td>-3.432316</td>\n",
       "      <td>-5.008428</td>\n",
       "      <td>-2.953897</td>\n",
       "    </tr>\n",
       "    <tr>\n",
       "      <th>std</th>\n",
       "      <td>0.309804</td>\n",
       "      <td>0.630543</td>\n",
       "      <td>0.321366</td>\n",
       "      <td>0.282767</td>\n",
       "      <td>0.432318</td>\n",
       "      <td>0.262817</td>\n",
       "      <td>1.982145</td>\n",
       "      <td>2.131418</td>\n",
       "      <td>1.870220</td>\n",
       "      <td>1.819077</td>\n",
       "      <td>...</td>\n",
       "      <td>0.067300</td>\n",
       "      <td>0.920920</td>\n",
       "      <td>0.895868</td>\n",
       "      <td>0.802149</td>\n",
       "      <td>2.231413</td>\n",
       "      <td>3.833002</td>\n",
       "      <td>2.539214</td>\n",
       "      <td>2.564583</td>\n",
       "      <td>4.445945</td>\n",
       "      <td>2.484421</td>\n",
       "    </tr>\n",
       "    <tr>\n",
       "      <th>min</th>\n",
       "      <td>-0.993609</td>\n",
       "      <td>-1.623560</td>\n",
       "      <td>-1.002952</td>\n",
       "      <td>0.010169</td>\n",
       "      <td>0.007581</td>\n",
       "      <td>0.004033</td>\n",
       "      <td>-0.492203</td>\n",
       "      <td>0.242920</td>\n",
       "      <td>-0.933777</td>\n",
       "      <td>-8.045670</td>\n",
       "      <td>...</td>\n",
       "      <td>-0.158835</td>\n",
       "      <td>0.006634</td>\n",
       "      <td>0.010953</td>\n",
       "      <td>0.007541</td>\n",
       "      <td>0.058239</td>\n",
       "      <td>0.163751</td>\n",
       "      <td>0.069228</td>\n",
       "      <td>-17.369271</td>\n",
       "      <td>-31.039573</td>\n",
       "      <td>-12.148050</td>\n",
       "    </tr>\n",
       "    <tr>\n",
       "      <th>25%</th>\n",
       "      <td>-0.158217</td>\n",
       "      <td>0.583473</td>\n",
       "      <td>-0.135001</td>\n",
       "      <td>0.070536</td>\n",
       "      <td>0.046895</td>\n",
       "      <td>0.085810</td>\n",
       "      <td>0.594005</td>\n",
       "      <td>1.229191</td>\n",
       "      <td>0.425370</td>\n",
       "      <td>-2.012074</td>\n",
       "      <td>...</td>\n",
       "      <td>-0.000802</td>\n",
       "      <td>0.093265</td>\n",
       "      <td>0.170752</td>\n",
       "      <td>0.073801</td>\n",
       "      <td>1.524452</td>\n",
       "      <td>2.001019</td>\n",
       "      <td>0.985425</td>\n",
       "      <td>-4.647820</td>\n",
       "      <td>-6.649853</td>\n",
       "      <td>-4.369913</td>\n",
       "    </tr>\n",
       "    <tr>\n",
       "      <th>50%</th>\n",
       "      <td>0.026207</td>\n",
       "      <td>0.966679</td>\n",
       "      <td>-0.053584</td>\n",
       "      <td>0.275856</td>\n",
       "      <td>0.450479</td>\n",
       "      <td>0.297427</td>\n",
       "      <td>1.151924</td>\n",
       "      <td>2.972382</td>\n",
       "      <td>1.243744</td>\n",
       "      <td>-1.069824</td>\n",
       "      <td>...</td>\n",
       "      <td>0.003790</td>\n",
       "      <td>1.139946</td>\n",
       "      <td>1.204319</td>\n",
       "      <td>0.706146</td>\n",
       "      <td>3.586934</td>\n",
       "      <td>4.348502</td>\n",
       "      <td>2.400502</td>\n",
       "      <td>-3.502883</td>\n",
       "      <td>-3.908825</td>\n",
       "      <td>-2.221103</td>\n",
       "    </tr>\n",
       "    <tr>\n",
       "      <th>75%</th>\n",
       "      <td>0.220062</td>\n",
       "      <td>0.997226</td>\n",
       "      <td>0.086536</td>\n",
       "      <td>0.468326</td>\n",
       "      <td>0.650153</td>\n",
       "      <td>0.455982</td>\n",
       "      <td>2.263343</td>\n",
       "      <td>4.666588</td>\n",
       "      <td>2.238456</td>\n",
       "      <td>-0.551277</td>\n",
       "      <td>...</td>\n",
       "      <td>0.050093</td>\n",
       "      <td>1.881994</td>\n",
       "      <td>1.673917</td>\n",
       "      <td>1.275323</td>\n",
       "      <td>5.134859</td>\n",
       "      <td>7.341994</td>\n",
       "      <td>3.965317</td>\n",
       "      <td>-1.309980</td>\n",
       "      <td>-2.042937</td>\n",
       "      <td>-0.973350</td>\n",
       "    </tr>\n",
       "    <tr>\n",
       "      <th>max</th>\n",
       "      <td>0.878188</td>\n",
       "      <td>1.218881</td>\n",
       "      <td>0.880593</td>\n",
       "      <td>1.327077</td>\n",
       "      <td>1.742646</td>\n",
       "      <td>1.317322</td>\n",
       "      <td>7.996292</td>\n",
       "      <td>7.980240</td>\n",
       "      <td>8.406799</td>\n",
       "      <td>0.637543</td>\n",
       "      <td>...</td>\n",
       "      <td>0.184575</td>\n",
       "      <td>3.712343</td>\n",
       "      <td>3.693231</td>\n",
       "      <td>4.784369</td>\n",
       "      <td>9.760004</td>\n",
       "      <td>22.682533</td>\n",
       "      <td>14.414091</td>\n",
       "      <td>-0.162084</td>\n",
       "      <td>-0.184731</td>\n",
       "      <td>-0.070852</td>\n",
       "    </tr>\n",
       "  </tbody>\n",
       "</table>\n",
       "<p>8 rows × 24 columns</p>\n",
       "</div>"
      ],
      "text/plain": [
       "       acc_x_mean  acc_y_mean  acc_z_mean   acc_x_std   acc_y_std   acc_z_std  \\\n",
       "count  160.000000  160.000000  160.000000  160.000000  160.000000  160.000000   \n",
       "mean     0.042038    0.668470   -0.055003    0.327866    0.489716    0.328942   \n",
       "std      0.309804    0.630543    0.321366    0.282767    0.432318    0.262817   \n",
       "min     -0.993609   -1.623560   -1.002952    0.010169    0.007581    0.004033   \n",
       "25%     -0.158217    0.583473   -0.135001    0.070536    0.046895    0.085810   \n",
       "50%      0.026207    0.966679   -0.053584    0.275856    0.450479    0.297427   \n",
       "75%      0.220062    0.997226    0.086536    0.468326    0.650153    0.455982   \n",
       "max      0.878188    1.218881    0.880593    1.327077    1.742646    1.317322   \n",
       "\n",
       "        acc_x_max   acc_y_max   acc_z_max   acc_x_min  ...  gyro_z_mean  \\\n",
       "count  160.000000  160.000000  160.000000  160.000000  ...   160.000000   \n",
       "mean     1.814508    3.178337    1.693617   -1.646839  ...     0.015588   \n",
       "std      1.982145    2.131418    1.870220    1.819077  ...     0.067300   \n",
       "min     -0.492203    0.242920   -0.933777   -8.045670  ...    -0.158835   \n",
       "25%      0.594005    1.229191    0.425370   -2.012074  ...    -0.000802   \n",
       "50%      1.151924    2.972382    1.243744   -1.069824  ...     0.003790   \n",
       "75%      2.263343    4.666588    2.238456   -0.551277  ...     0.050093   \n",
       "max      7.996292    7.980240    8.406799    0.637543  ...     0.184575   \n",
       "\n",
       "       gyro_x_std  gyro_y_std  gyro_z_std  gyro_x_max  gyro_y_max  gyro_z_max  \\\n",
       "count  160.000000  160.000000  160.000000  160.000000  160.000000  160.000000   \n",
       "mean     1.150634    1.155353    0.846262    3.494694    5.069988    2.954156   \n",
       "std      0.920920    0.895868    0.802149    2.231413    3.833002    2.539214   \n",
       "min      0.006634    0.010953    0.007541    0.058239    0.163751    0.069228   \n",
       "25%      0.093265    0.170752    0.073801    1.524452    2.001019    0.985425   \n",
       "50%      1.139946    1.204319    0.706146    3.586934    4.348502    2.400502   \n",
       "75%      1.881994    1.673917    1.275323    5.134859    7.341994    3.965317   \n",
       "max      3.712343    3.693231    4.784369    9.760004   22.682533   14.414091   \n",
       "\n",
       "       gyro_x_min  gyro_y_min  gyro_z_min  \n",
       "count  160.000000  160.000000  160.000000  \n",
       "mean    -3.432316   -5.008428   -2.953897  \n",
       "std      2.564583    4.445945    2.484421  \n",
       "min    -17.369271  -31.039573  -12.148050  \n",
       "25%     -4.647820   -6.649853   -4.369913  \n",
       "50%     -3.502883   -3.908825   -2.221103  \n",
       "75%     -1.309980   -2.042937   -0.973350  \n",
       "max     -0.162084   -0.184731   -0.070852  \n",
       "\n",
       "[8 rows x 24 columns]"
      ]
     },
     "execution_count": 15,
     "metadata": {},
     "output_type": "execute_result"
    }
   ],
   "source": [
    "df.describe()"
   ]
  },
  {
   "cell_type": "code",
   "execution_count": 16,
   "metadata": {},
   "outputs": [
    {
     "data": {
      "text/plain": [
       "(160, 25)"
      ]
     },
     "execution_count": 16,
     "metadata": {},
     "output_type": "execute_result"
    }
   ],
   "source": [
    "df.shape"
   ]
  },
  {
   "cell_type": "code",
   "execution_count": 17,
   "metadata": {},
   "outputs": [
    {
     "data": {
      "text/plain": [
       "array(['downstairs', 'jogging', 'sitting', 'standing', 'upstairs',\n",
       "       'walking', 'Activity_1', 'Activity_2', 'Activity_3'], dtype=object)"
      ]
     },
     "execution_count": 17,
     "metadata": {},
     "output_type": "execute_result"
    }
   ],
   "source": [
    "df['activity'].unique()"
   ]
  },
  {
   "cell_type": "code",
   "execution_count": 18,
   "metadata": {},
   "outputs": [],
   "source": [
    "status_mapping = {'downstairs': 0, 'jogging': 1, 'sitting':2, \"standing\":3, \"upstairs\":4, \"walking\":5, \"Activity_1\":6,\n",
    "                  \"Activity_2\":7, \"Activity_3\":8}\n",
    "y = df['activity'].map(status_mapping)"
   ]
  },
  {
   "cell_type": "code",
   "execution_count": 19,
   "metadata": {},
   "outputs": [],
   "source": [
    "X = df.drop(columns=['activity'],axis=1)"
   ]
  },
  {
   "cell_type": "code",
   "execution_count": 20,
   "metadata": {},
   "outputs": [
    {
     "data": {
      "text/html": [
       "<div>\n",
       "<style scoped>\n",
       "    .dataframe tbody tr th:only-of-type {\n",
       "        vertical-align: middle;\n",
       "    }\n",
       "\n",
       "    .dataframe tbody tr th {\n",
       "        vertical-align: top;\n",
       "    }\n",
       "\n",
       "    .dataframe thead th {\n",
       "        text-align: right;\n",
       "    }\n",
       "</style>\n",
       "<table border=\"1\" class=\"dataframe\">\n",
       "  <thead>\n",
       "    <tr style=\"text-align: right;\">\n",
       "      <th></th>\n",
       "      <th>acc_x_mean</th>\n",
       "      <th>acc_y_mean</th>\n",
       "      <th>acc_z_mean</th>\n",
       "      <th>acc_x_std</th>\n",
       "      <th>acc_y_std</th>\n",
       "      <th>acc_z_std</th>\n",
       "      <th>acc_x_max</th>\n",
       "      <th>acc_y_max</th>\n",
       "      <th>acc_z_max</th>\n",
       "      <th>acc_x_min</th>\n",
       "      <th>...</th>\n",
       "      <th>gyro_z_mean</th>\n",
       "      <th>gyro_x_std</th>\n",
       "      <th>gyro_y_std</th>\n",
       "      <th>gyro_z_std</th>\n",
       "      <th>gyro_x_max</th>\n",
       "      <th>gyro_y_max</th>\n",
       "      <th>gyro_z_max</th>\n",
       "      <th>gyro_x_min</th>\n",
       "      <th>gyro_y_min</th>\n",
       "      <th>gyro_z_min</th>\n",
       "    </tr>\n",
       "  </thead>\n",
       "  <tbody>\n",
       "    <tr>\n",
       "      <th>0</th>\n",
       "      <td>0.807947</td>\n",
       "      <td>0.605079</td>\n",
       "      <td>-0.078861</td>\n",
       "      <td>0.340053</td>\n",
       "      <td>0.290071</td>\n",
       "      <td>0.311237</td>\n",
       "      <td>2.390305</td>\n",
       "      <td>2.311157</td>\n",
       "      <td>1.070602</td>\n",
       "      <td>-0.618698</td>\n",
       "      <td>...</td>\n",
       "      <td>0.144498</td>\n",
       "      <td>1.079115</td>\n",
       "      <td>1.964364</td>\n",
       "      <td>0.702070</td>\n",
       "      <td>3.388801</td>\n",
       "      <td>6.080116</td>\n",
       "      <td>2.908103</td>\n",
       "      <td>-3.902423</td>\n",
       "      <td>-6.649853</td>\n",
       "      <td>-2.179657</td>\n",
       "    </tr>\n",
       "    <tr>\n",
       "      <th>1</th>\n",
       "      <td>0.807947</td>\n",
       "      <td>0.605079</td>\n",
       "      <td>-0.078861</td>\n",
       "      <td>0.340053</td>\n",
       "      <td>0.290071</td>\n",
       "      <td>0.311237</td>\n",
       "      <td>2.390305</td>\n",
       "      <td>2.311157</td>\n",
       "      <td>1.070602</td>\n",
       "      <td>-0.618698</td>\n",
       "      <td>...</td>\n",
       "      <td>0.144498</td>\n",
       "      <td>1.079115</td>\n",
       "      <td>1.964364</td>\n",
       "      <td>0.702070</td>\n",
       "      <td>3.388801</td>\n",
       "      <td>6.080116</td>\n",
       "      <td>2.908103</td>\n",
       "      <td>-3.902423</td>\n",
       "      <td>-6.649853</td>\n",
       "      <td>-2.179657</td>\n",
       "    </tr>\n",
       "    <tr>\n",
       "      <th>2</th>\n",
       "      <td>-0.272239</td>\n",
       "      <td>1.026517</td>\n",
       "      <td>-0.092339</td>\n",
       "      <td>0.724730</td>\n",
       "      <td>1.149340</td>\n",
       "      <td>0.687125</td>\n",
       "      <td>2.807007</td>\n",
       "      <td>5.363983</td>\n",
       "      <td>2.053986</td>\n",
       "      <td>-4.010849</td>\n",
       "      <td>...</td>\n",
       "      <td>0.117823</td>\n",
       "      <td>3.057738</td>\n",
       "      <td>2.963132</td>\n",
       "      <td>1.878728</td>\n",
       "      <td>6.223940</td>\n",
       "      <td>6.919963</td>\n",
       "      <td>4.481204</td>\n",
       "      <td>-9.524870</td>\n",
       "      <td>-11.997552</td>\n",
       "      <td>-6.496084</td>\n",
       "    </tr>\n",
       "    <tr>\n",
       "      <th>3</th>\n",
       "      <td>0.281158</td>\n",
       "      <td>0.358120</td>\n",
       "      <td>-0.898597</td>\n",
       "      <td>0.041880</td>\n",
       "      <td>0.036871</td>\n",
       "      <td>0.016954</td>\n",
       "      <td>0.527451</td>\n",
       "      <td>0.507019</td>\n",
       "      <td>-0.783539</td>\n",
       "      <td>0.040497</td>\n",
       "      <td>...</td>\n",
       "      <td>0.003792</td>\n",
       "      <td>0.052375</td>\n",
       "      <td>0.033811</td>\n",
       "      <td>0.049603</td>\n",
       "      <td>0.591255</td>\n",
       "      <td>0.402753</td>\n",
       "      <td>0.714474</td>\n",
       "      <td>-0.736353</td>\n",
       "      <td>-0.333014</td>\n",
       "      <td>-0.590174</td>\n",
       "    </tr>\n",
       "    <tr>\n",
       "      <th>4</th>\n",
       "      <td>0.079849</td>\n",
       "      <td>1.003429</td>\n",
       "      <td>0.080250</td>\n",
       "      <td>0.071522</td>\n",
       "      <td>0.018363</td>\n",
       "      <td>0.053207</td>\n",
       "      <td>0.378998</td>\n",
       "      <td>1.373367</td>\n",
       "      <td>0.306076</td>\n",
       "      <td>-0.364960</td>\n",
       "      <td>...</td>\n",
       "      <td>0.001644</td>\n",
       "      <td>0.087463</td>\n",
       "      <td>0.173388</td>\n",
       "      <td>0.062323</td>\n",
       "      <td>1.544325</td>\n",
       "      <td>1.254333</td>\n",
       "      <td>0.900430</td>\n",
       "      <td>-1.158551</td>\n",
       "      <td>-1.909183</td>\n",
       "      <td>-0.516644</td>\n",
       "    </tr>\n",
       "  </tbody>\n",
       "</table>\n",
       "<p>5 rows × 24 columns</p>\n",
       "</div>"
      ],
      "text/plain": [
       "   acc_x_mean  acc_y_mean  acc_z_mean  acc_x_std  acc_y_std  acc_z_std  \\\n",
       "0    0.807947    0.605079   -0.078861   0.340053   0.290071   0.311237   \n",
       "1    0.807947    0.605079   -0.078861   0.340053   0.290071   0.311237   \n",
       "2   -0.272239    1.026517   -0.092339   0.724730   1.149340   0.687125   \n",
       "3    0.281158    0.358120   -0.898597   0.041880   0.036871   0.016954   \n",
       "4    0.079849    1.003429    0.080250   0.071522   0.018363   0.053207   \n",
       "\n",
       "   acc_x_max  acc_y_max  acc_z_max  acc_x_min  ...  gyro_z_mean  gyro_x_std  \\\n",
       "0   2.390305   2.311157   1.070602  -0.618698  ...     0.144498    1.079115   \n",
       "1   2.390305   2.311157   1.070602  -0.618698  ...     0.144498    1.079115   \n",
       "2   2.807007   5.363983   2.053986  -4.010849  ...     0.117823    3.057738   \n",
       "3   0.527451   0.507019  -0.783539   0.040497  ...     0.003792    0.052375   \n",
       "4   0.378998   1.373367   0.306076  -0.364960  ...     0.001644    0.087463   \n",
       "\n",
       "   gyro_y_std  gyro_z_std  gyro_x_max  gyro_y_max  gyro_z_max  gyro_x_min  \\\n",
       "0    1.964364    0.702070    3.388801    6.080116    2.908103   -3.902423   \n",
       "1    1.964364    0.702070    3.388801    6.080116    2.908103   -3.902423   \n",
       "2    2.963132    1.878728    6.223940    6.919963    4.481204   -9.524870   \n",
       "3    0.033811    0.049603    0.591255    0.402753    0.714474   -0.736353   \n",
       "4    0.173388    0.062323    1.544325    1.254333    0.900430   -1.158551   \n",
       "\n",
       "   gyro_y_min  gyro_z_min  \n",
       "0   -6.649853   -2.179657  \n",
       "1   -6.649853   -2.179657  \n",
       "2  -11.997552   -6.496084  \n",
       "3   -0.333014   -0.590174  \n",
       "4   -1.909183   -0.516644  \n",
       "\n",
       "[5 rows x 24 columns]"
      ]
     },
     "execution_count": 20,
     "metadata": {},
     "output_type": "execute_result"
    }
   ],
   "source": [
    "X.head()"
   ]
  },
  {
   "cell_type": "code",
   "execution_count": 21,
   "metadata": {},
   "outputs": [
    {
     "data": {
      "text/plain": [
       "((160, 24), (160,))"
      ]
     },
     "execution_count": 21,
     "metadata": {},
     "output_type": "execute_result"
    }
   ],
   "source": [
    "X.shape, y.shape"
   ]
  },
  {
   "cell_type": "code",
   "execution_count": 39,
   "metadata": {},
   "outputs": [],
   "source": [
    "from sklearn.model_selection import train_test_split\n",
    "x_train, x_test, y_train, y_test = train_test_split(X, y, test_size=0.1, random_state=42)"
   ]
  },
  {
   "cell_type": "code",
   "execution_count": 41,
   "metadata": {},
   "outputs": [
    {
     "name": "stdout",
     "output_type": "stream",
     "text": [
      "(144, 24) (16, 24) (144,) (16,)\n"
     ]
    }
   ],
   "source": [
    "print(x_train.shape, x_test.shape, y_train.shape, y_test.shape)"
   ]
  },
  {
   "cell_type": "code",
   "execution_count": 53,
   "metadata": {},
   "outputs": [
    {
     "data": {
      "text/plain": [
       "105    2\n",
       "108    5\n",
       "141    2\n",
       "55     0\n",
       "94     3\n",
       "29     4\n",
       "101    4\n",
       "51     2\n",
       "100    3\n",
       "142    3\n",
       "19     0\n",
       "84     5\n",
       "15     2\n",
       "66     5\n",
       "24     5\n",
       "30     5\n",
       "Name: activity, dtype: int64"
      ]
     },
     "execution_count": 53,
     "metadata": {},
     "output_type": "execute_result"
    }
   ],
   "source": [
    "y_test"
   ]
  },
  {
   "cell_type": "markdown",
   "metadata": {},
   "source": [
    "# Random Forest Classifier"
   ]
  },
  {
   "cell_type": "code",
   "execution_count": 22,
   "metadata": {},
   "outputs": [],
   "source": [
    "rfc = RandomForestClassifier(n_estimators=100)"
   ]
  },
  {
   "cell_type": "code",
   "execution_count": 42,
   "metadata": {},
   "outputs": [
    {
     "data": {
      "text/plain": [
       "RandomForestClassifier()"
      ]
     },
     "execution_count": 42,
     "metadata": {},
     "output_type": "execute_result"
    }
   ],
   "source": [
    "rfc.fit(x_train, y_train)"
   ]
  },
  {
   "cell_type": "code",
   "execution_count": 43,
   "metadata": {},
   "outputs": [
    {
     "data": {
      "text/plain": [
       "array([2, 5, 2, 0, 3, 4, 4, 2, 3, 3, 0, 5, 2, 5, 5, 5], dtype=int64)"
      ]
     },
     "execution_count": 43,
     "metadata": {},
     "output_type": "execute_result"
    }
   ],
   "source": [
    "yhat = rfc.predict(x_test)\n",
    "yhat"
   ]
  },
  {
   "cell_type": "code",
   "execution_count": 44,
   "metadata": {},
   "outputs": [
    {
     "data": {
      "text/plain": [
       "['downstairs',\n",
       " 'jogging',\n",
       " 'sitting',\n",
       " 'standing',\n",
       " 'upstairs',\n",
       " 'walking',\n",
       " 'Activity_1',\n",
       " 'Activity_2',\n",
       " 'Activity_3']"
      ]
     },
     "execution_count": 44,
     "metadata": {},
     "output_type": "execute_result"
    }
   ],
   "source": [
    "target_names = list(df['activity'].unique())\n",
    "target_names"
   ]
  },
  {
   "cell_type": "code",
   "execution_count": 52,
   "metadata": {},
   "outputs": [
    {
     "name": "stdout",
     "output_type": "stream",
     "text": [
      "Accuracy : 1.0\n"
     ]
    }
   ],
   "source": [
    "from sklearn.metrics import accuracy_score, f1_score, precision_score\n",
    "print(f'Accuracy : {accuracy_score(y_test, yhat)}')"
   ]
  },
  {
   "cell_type": "markdown",
   "metadata": {},
   "source": [
    "# Support Vector Classifier"
   ]
  },
  {
   "cell_type": "code",
   "execution_count": 54,
   "metadata": {},
   "outputs": [],
   "source": [
    "svc_classifier = SVC(C=1.0, kernel='rbf', gamma='scale')"
   ]
  },
  {
   "cell_type": "code",
   "execution_count": 55,
   "metadata": {},
   "outputs": [
    {
     "data": {
      "text/plain": [
       "SVC()"
      ]
     },
     "execution_count": 55,
     "metadata": {},
     "output_type": "execute_result"
    }
   ],
   "source": [
    "svc_classifier.fit(x_train, y_train)"
   ]
  },
  {
   "cell_type": "code",
   "execution_count": 56,
   "metadata": {},
   "outputs": [
    {
     "data": {
      "text/plain": [
       "array([3, 4, 3, 3, 3, 0, 1, 2, 3, 3, 0, 4, 3, 3, 4, 4], dtype=int64)"
      ]
     },
     "execution_count": 56,
     "metadata": {},
     "output_type": "execute_result"
    }
   ],
   "source": [
    "yhat = svc_classifier.predict(x_test)\n",
    "yhat"
   ]
  },
  {
   "cell_type": "code",
   "execution_count": 57,
   "metadata": {},
   "outputs": [
    {
     "name": "stdout",
     "output_type": "stream",
     "text": [
      "Accuracy : 0.3125\n"
     ]
    }
   ],
   "source": [
    "print(f'Accuracy : {accuracy_score(y_test, yhat)}')"
   ]
  },
  {
   "cell_type": "markdown",
   "metadata": {},
   "source": [
    "# Decision Tree"
   ]
  },
  {
   "cell_type": "code",
   "execution_count": 58,
   "metadata": {},
   "outputs": [],
   "source": [
    "from sklearn.tree import DecisionTreeClassifier\n",
    "dct = DecisionTreeClassifier()"
   ]
  },
  {
   "cell_type": "code",
   "execution_count": 60,
   "metadata": {},
   "outputs": [
    {
     "data": {
      "text/plain": [
       "DecisionTreeClassifier()"
      ]
     },
     "execution_count": 60,
     "metadata": {},
     "output_type": "execute_result"
    }
   ],
   "source": [
    "dct.fit(x_train,y_train)"
   ]
  },
  {
   "cell_type": "code",
   "execution_count": 61,
   "metadata": {},
   "outputs": [
    {
     "data": {
      "text/plain": [
       "array([2, 5, 2, 0, 3, 4, 4, 2, 3, 3, 4, 5, 2, 5, 5, 5], dtype=int64)"
      ]
     },
     "execution_count": 61,
     "metadata": {},
     "output_type": "execute_result"
    }
   ],
   "source": [
    "yhat = dct.predict(x_test)\n",
    "yhat"
   ]
  },
  {
   "cell_type": "code",
   "execution_count": 62,
   "metadata": {},
   "outputs": [
    {
     "name": "stdout",
     "output_type": "stream",
     "text": [
      "Accuracy : 0.9375\n"
     ]
    }
   ],
   "source": [
    "print(f'Accuracy : {accuracy_score(y_test, yhat)}')"
   ]
  },
  {
   "cell_type": "markdown",
   "metadata": {},
   "source": [
    "# Testing on unseen data"
   ]
  },
  {
   "cell_type": "code",
   "execution_count": 64,
   "metadata": {},
   "outputs": [],
   "source": [
    "test_df = pd.read_csv(\"E:\\\\github_clone\\\\human-activity-recognition\\\\data\\\\test.csv\")"
   ]
  },
  {
   "cell_type": "code",
   "execution_count": 65,
   "metadata": {},
   "outputs": [
    {
     "data": {
      "text/html": [
       "<div>\n",
       "<style scoped>\n",
       "    .dataframe tbody tr th:only-of-type {\n",
       "        vertical-align: middle;\n",
       "    }\n",
       "\n",
       "    .dataframe tbody tr th {\n",
       "        vertical-align: top;\n",
       "    }\n",
       "\n",
       "    .dataframe thead th {\n",
       "        text-align: right;\n",
       "    }\n",
       "</style>\n",
       "<table border=\"1\" class=\"dataframe\">\n",
       "  <thead>\n",
       "    <tr style=\"text-align: right;\">\n",
       "      <th></th>\n",
       "      <th>tBodyAcc-mean()-X</th>\n",
       "      <th>tBodyAcc-mean()-Y</th>\n",
       "      <th>tBodyAcc-mean()-Z</th>\n",
       "      <th>tBodyAcc-std()-X</th>\n",
       "      <th>tBodyAcc-std()-Y</th>\n",
       "      <th>tBodyAcc-std()-Z</th>\n",
       "      <th>tBodyAcc-mad()-X</th>\n",
       "      <th>tBodyAcc-mad()-Y</th>\n",
       "      <th>tBodyAcc-mad()-Z</th>\n",
       "      <th>tBodyAcc-max()-X</th>\n",
       "      <th>...</th>\n",
       "      <th>fBodyBodyGyroJerkMag-kurtosis()</th>\n",
       "      <th>angle(tBodyAccMean,gravity)</th>\n",
       "      <th>angle(tBodyAccJerkMean),gravityMean)</th>\n",
       "      <th>angle(tBodyGyroMean,gravityMean)</th>\n",
       "      <th>angle(tBodyGyroJerkMean,gravityMean)</th>\n",
       "      <th>angle(X,gravityMean)</th>\n",
       "      <th>angle(Y,gravityMean)</th>\n",
       "      <th>angle(Z,gravityMean)</th>\n",
       "      <th>subject</th>\n",
       "      <th>Activity</th>\n",
       "    </tr>\n",
       "  </thead>\n",
       "  <tbody>\n",
       "    <tr>\n",
       "      <th>0</th>\n",
       "      <td>0.257178</td>\n",
       "      <td>-0.023285</td>\n",
       "      <td>-0.014654</td>\n",
       "      <td>-0.938404</td>\n",
       "      <td>-0.920091</td>\n",
       "      <td>-0.667683</td>\n",
       "      <td>-0.952501</td>\n",
       "      <td>-0.925249</td>\n",
       "      <td>-0.674302</td>\n",
       "      <td>-0.894088</td>\n",
       "      <td>...</td>\n",
       "      <td>-0.705974</td>\n",
       "      <td>0.006462</td>\n",
       "      <td>0.162920</td>\n",
       "      <td>-0.825886</td>\n",
       "      <td>0.271151</td>\n",
       "      <td>-0.720009</td>\n",
       "      <td>0.276801</td>\n",
       "      <td>-0.057978</td>\n",
       "      <td>2</td>\n",
       "      <td>STANDING</td>\n",
       "    </tr>\n",
       "    <tr>\n",
       "      <th>1</th>\n",
       "      <td>0.286027</td>\n",
       "      <td>-0.013163</td>\n",
       "      <td>-0.119083</td>\n",
       "      <td>-0.975415</td>\n",
       "      <td>-0.967458</td>\n",
       "      <td>-0.944958</td>\n",
       "      <td>-0.986799</td>\n",
       "      <td>-0.968401</td>\n",
       "      <td>-0.945823</td>\n",
       "      <td>-0.894088</td>\n",
       "      <td>...</td>\n",
       "      <td>-0.594944</td>\n",
       "      <td>-0.083495</td>\n",
       "      <td>0.017500</td>\n",
       "      <td>-0.434375</td>\n",
       "      <td>0.920593</td>\n",
       "      <td>-0.698091</td>\n",
       "      <td>0.281343</td>\n",
       "      <td>-0.083898</td>\n",
       "      <td>2</td>\n",
       "      <td>STANDING</td>\n",
       "    </tr>\n",
       "    <tr>\n",
       "      <th>2</th>\n",
       "      <td>0.275485</td>\n",
       "      <td>-0.026050</td>\n",
       "      <td>-0.118152</td>\n",
       "      <td>-0.993819</td>\n",
       "      <td>-0.969926</td>\n",
       "      <td>-0.962748</td>\n",
       "      <td>-0.994403</td>\n",
       "      <td>-0.970735</td>\n",
       "      <td>-0.963483</td>\n",
       "      <td>-0.939260</td>\n",
       "      <td>...</td>\n",
       "      <td>-0.640736</td>\n",
       "      <td>-0.034956</td>\n",
       "      <td>0.202302</td>\n",
       "      <td>0.064103</td>\n",
       "      <td>0.145068</td>\n",
       "      <td>-0.702771</td>\n",
       "      <td>0.280083</td>\n",
       "      <td>-0.079346</td>\n",
       "      <td>2</td>\n",
       "      <td>STANDING</td>\n",
       "    </tr>\n",
       "    <tr>\n",
       "      <th>3</th>\n",
       "      <td>0.270298</td>\n",
       "      <td>-0.032614</td>\n",
       "      <td>-0.117520</td>\n",
       "      <td>-0.994743</td>\n",
       "      <td>-0.973268</td>\n",
       "      <td>-0.967091</td>\n",
       "      <td>-0.995274</td>\n",
       "      <td>-0.974471</td>\n",
       "      <td>-0.968897</td>\n",
       "      <td>-0.938610</td>\n",
       "      <td>...</td>\n",
       "      <td>-0.736124</td>\n",
       "      <td>-0.017067</td>\n",
       "      <td>0.154438</td>\n",
       "      <td>0.340134</td>\n",
       "      <td>0.296407</td>\n",
       "      <td>-0.698954</td>\n",
       "      <td>0.284114</td>\n",
       "      <td>-0.077108</td>\n",
       "      <td>2</td>\n",
       "      <td>STANDING</td>\n",
       "    </tr>\n",
       "    <tr>\n",
       "      <th>4</th>\n",
       "      <td>0.274833</td>\n",
       "      <td>-0.027848</td>\n",
       "      <td>-0.129527</td>\n",
       "      <td>-0.993852</td>\n",
       "      <td>-0.967445</td>\n",
       "      <td>-0.978295</td>\n",
       "      <td>-0.994111</td>\n",
       "      <td>-0.965953</td>\n",
       "      <td>-0.977346</td>\n",
       "      <td>-0.938610</td>\n",
       "      <td>...</td>\n",
       "      <td>-0.846595</td>\n",
       "      <td>-0.002223</td>\n",
       "      <td>-0.040046</td>\n",
       "      <td>0.736715</td>\n",
       "      <td>-0.118545</td>\n",
       "      <td>-0.692245</td>\n",
       "      <td>0.290722</td>\n",
       "      <td>-0.073857</td>\n",
       "      <td>2</td>\n",
       "      <td>STANDING</td>\n",
       "    </tr>\n",
       "  </tbody>\n",
       "</table>\n",
       "<p>5 rows × 563 columns</p>\n",
       "</div>"
      ],
      "text/plain": [
       "   tBodyAcc-mean()-X  tBodyAcc-mean()-Y  tBodyAcc-mean()-Z  tBodyAcc-std()-X  \\\n",
       "0           0.257178          -0.023285          -0.014654         -0.938404   \n",
       "1           0.286027          -0.013163          -0.119083         -0.975415   \n",
       "2           0.275485          -0.026050          -0.118152         -0.993819   \n",
       "3           0.270298          -0.032614          -0.117520         -0.994743   \n",
       "4           0.274833          -0.027848          -0.129527         -0.993852   \n",
       "\n",
       "   tBodyAcc-std()-Y  tBodyAcc-std()-Z  tBodyAcc-mad()-X  tBodyAcc-mad()-Y  \\\n",
       "0         -0.920091         -0.667683         -0.952501         -0.925249   \n",
       "1         -0.967458         -0.944958         -0.986799         -0.968401   \n",
       "2         -0.969926         -0.962748         -0.994403         -0.970735   \n",
       "3         -0.973268         -0.967091         -0.995274         -0.974471   \n",
       "4         -0.967445         -0.978295         -0.994111         -0.965953   \n",
       "\n",
       "   tBodyAcc-mad()-Z  tBodyAcc-max()-X  ...  fBodyBodyGyroJerkMag-kurtosis()  \\\n",
       "0         -0.674302         -0.894088  ...                        -0.705974   \n",
       "1         -0.945823         -0.894088  ...                        -0.594944   \n",
       "2         -0.963483         -0.939260  ...                        -0.640736   \n",
       "3         -0.968897         -0.938610  ...                        -0.736124   \n",
       "4         -0.977346         -0.938610  ...                        -0.846595   \n",
       "\n",
       "   angle(tBodyAccMean,gravity)  angle(tBodyAccJerkMean),gravityMean)  \\\n",
       "0                     0.006462                              0.162920   \n",
       "1                    -0.083495                              0.017500   \n",
       "2                    -0.034956                              0.202302   \n",
       "3                    -0.017067                              0.154438   \n",
       "4                    -0.002223                             -0.040046   \n",
       "\n",
       "   angle(tBodyGyroMean,gravityMean)  angle(tBodyGyroJerkMean,gravityMean)  \\\n",
       "0                         -0.825886                              0.271151   \n",
       "1                         -0.434375                              0.920593   \n",
       "2                          0.064103                              0.145068   \n",
       "3                          0.340134                              0.296407   \n",
       "4                          0.736715                             -0.118545   \n",
       "\n",
       "   angle(X,gravityMean)  angle(Y,gravityMean)  angle(Z,gravityMean)  subject  \\\n",
       "0             -0.720009              0.276801             -0.057978        2   \n",
       "1             -0.698091              0.281343             -0.083898        2   \n",
       "2             -0.702771              0.280083             -0.079346        2   \n",
       "3             -0.698954              0.284114             -0.077108        2   \n",
       "4             -0.692245              0.290722             -0.073857        2   \n",
       "\n",
       "   Activity  \n",
       "0  STANDING  \n",
       "1  STANDING  \n",
       "2  STANDING  \n",
       "3  STANDING  \n",
       "4  STANDING  \n",
       "\n",
       "[5 rows x 563 columns]"
      ]
     },
     "execution_count": 65,
     "metadata": {},
     "output_type": "execute_result"
    }
   ],
   "source": [
    "test_df.head()"
   ]
  },
  {
   "cell_type": "code",
   "execution_count": 66,
   "metadata": {},
   "outputs": [],
   "source": [
    "X_test = test_df.drop('Activity', axis=1)"
   ]
  },
  {
   "cell_type": "code",
   "execution_count": 67,
   "metadata": {},
   "outputs": [
    {
     "data": {
      "text/plain": [
       "(2947, 562)"
      ]
     },
     "execution_count": 67,
     "metadata": {},
     "output_type": "execute_result"
    }
   ],
   "source": [
    "X_test.shape"
   ]
  },
  {
   "cell_type": "code",
   "execution_count": 68,
   "metadata": {},
   "outputs": [],
   "source": [
    "status_mapping = {'STANDING': 0, 'SITTING': 1, 'LAYING':2, \"WALKING\":3, \"WALKING_DOWNSTAIRS\":4, \"WALKING_UPSTAIRS\":5}\n",
    "y_test = test_df['Activity'].map(status_mapping)"
   ]
  },
  {
   "cell_type": "code",
   "execution_count": 52,
   "metadata": {},
   "outputs": [],
   "source": [
    "rfc_predicted = rfc.predict(X)\n",
    "svc_predicted = svc_classifier.predict(X)\n",
    "dct_predicted = dct.predict(X)"
   ]
  },
  {
   "cell_type": "code",
   "execution_count": 30,
   "metadata": {},
   "outputs": [
    {
     "name": "stdout",
     "output_type": "stream",
     "text": [
      "Random Forest Classification Report\n",
      "                    precision    recall  f1-score   support\n",
      "\n",
      "           Walking       0.89      0.92      0.90       532\n",
      "  Walking Upstairs       0.91      0.88      0.89       491\n",
      "Walking Downstairs       1.00      1.00      1.00       537\n",
      "           Sitting       0.89      0.97      0.93       496\n",
      "          Standing       0.97      0.85      0.90       420\n",
      "            Laying       0.89      0.90      0.89       471\n",
      "\n",
      "          accuracy                           0.92      2947\n",
      "         macro avg       0.92      0.92      0.92      2947\n",
      "      weighted avg       0.92      0.92      0.92      2947\n",
      "\n",
      "Accuracy of RFC: 0.9219545300305395\n"
     ]
    }
   ],
   "source": [
    "print(\"Random Forest Classification Report\")\n",
    "print(classification_report(y, rfc_predicted, target_names=target_names))\n",
    "print(f\"Accuracy of RFC: {accuracy_score(y, rfc_predicted)}\")"
   ]
  },
  {
   "cell_type": "code",
   "execution_count": 56,
   "metadata": {},
   "outputs": [
    {
     "name": "stdout",
     "output_type": "stream",
     "text": [
      "Support Vector Classification Report\n",
      "                    precision    recall  f1-score   support\n",
      "\n",
      "           Walking       0.88      0.92      0.90       532\n",
      "  Walking Upstairs       0.90      0.86      0.88       491\n",
      "Walking Downstairs       1.00      1.00      1.00       537\n",
      "           Sitting       0.90      1.00      0.94       496\n",
      "          Standing       0.99      0.85      0.92       420\n",
      "            Laying       0.94      0.95      0.94       471\n",
      "\n",
      "          accuracy                           0.93      2947\n",
      "         macro avg       0.93      0.93      0.93      2947\n",
      "      weighted avg       0.93      0.93      0.93      2947\n",
      "\n",
      "Accuracy of SVC: 0.9307770614183916\n"
     ]
    }
   ],
   "source": [
    "print(\"Support Vector Classification Report\")\n",
    "print(classification_report(y, svc_predicted, target_names=target_names))\n",
    "print(f\"Accuracy of SVC: {accuracy_score(y, svc_predicted)}\")"
   ]
  },
  {
   "cell_type": "code",
   "execution_count": 55,
   "metadata": {},
   "outputs": [
    {
     "name": "stdout",
     "output_type": "stream",
     "text": [
      "Decision Tree Classification Report\n",
      "                    precision    recall  f1-score   support\n",
      "\n",
      "           Walking       0.79      0.85      0.82       532\n",
      "  Walking Upstairs       0.82      0.75      0.78       491\n",
      "Walking Downstairs       1.00      1.00      1.00       537\n",
      "           Sitting       0.81      0.91      0.86       496\n",
      "          Standing       0.87      0.82      0.84       420\n",
      "            Laying       0.83      0.77      0.80       471\n",
      "\n",
      "          accuracy                           0.85      2947\n",
      "         macro avg       0.85      0.85      0.85      2947\n",
      "      weighted avg       0.85      0.85      0.85      2947\n",
      "\n",
      "Accuracy of DCT: 0.8537495758398371\n"
     ]
    }
   ],
   "source": [
    "print(\"Decision Tree Classification Report\")\n",
    "print(classification_report(y, dct_predicted, target_names=target_names))\n",
    "print(f\"Accuracy of DCT: {accuracy_score(y, dct_predicted)}\")"
   ]
  },
  {
   "cell_type": "markdown",
   "metadata": {},
   "source": [
    "# Hpyer parameter Tuning"
   ]
  },
  {
   "cell_type": "code",
   "execution_count": 57,
   "metadata": {},
   "outputs": [],
   "source": [
    "from sklearn.model_selection import GridSearchCV"
   ]
  },
  {
   "cell_type": "code",
   "execution_count": 58,
   "metadata": {},
   "outputs": [],
   "source": [
    "param_grid = {\n",
    "    'n_estimators': [100, 200, 300],\n",
    "    'max_depth': [None, 10, 20, 30],\n",
    "    'min_samples_split': [2, 5, 10],\n",
    "    'min_samples_leaf': [1, 2, 4],\n",
    "    'max_features': ['auto', 'sqrt', 'log2'],\n",
    "    'bootstrap': [True, False]\n",
    "}"
   ]
  },
  {
   "cell_type": "code",
   "execution_count": 59,
   "metadata": {},
   "outputs": [],
   "source": [
    "grid_search = GridSearchCV(estimator=rfc, param_grid=param_grid, cv=3, n_jobs=-1, verbose=2)"
   ]
  },
  {
   "cell_type": "code",
   "execution_count": 60,
   "metadata": {},
   "outputs": [
    {
     "name": "stdout",
     "output_type": "stream",
     "text": [
      "Fitting 3 folds for each of 648 candidates, totalling 1944 fits\n"
     ]
    },
    {
     "data": {
      "text/plain": [
       "GridSearchCV(cv=3, estimator=RandomForestClassifier(), n_jobs=-1,\n",
       "             param_grid={'bootstrap': [True, False],\n",
       "                         'max_depth': [None, 10, 20, 30],\n",
       "                         'max_features': ['auto', 'sqrt', 'log2'],\n",
       "                         'min_samples_leaf': [1, 2, 4],\n",
       "                         'min_samples_split': [2, 5, 10],\n",
       "                         'n_estimators': [100, 200, 300]},\n",
       "             verbose=2)"
      ]
     },
     "execution_count": 60,
     "metadata": {},
     "output_type": "execute_result"
    }
   ],
   "source": [
    "grid_search.fit(X, y)"
   ]
  },
  {
   "cell_type": "code",
   "execution_count": 61,
   "metadata": {},
   "outputs": [],
   "source": [
    "best_params = grid_search.best_params_"
   ]
  },
  {
   "cell_type": "code",
   "execution_count": 62,
   "metadata": {},
   "outputs": [
    {
     "data": {
      "text/plain": [
       "{'bootstrap': False,\n",
       " 'max_depth': None,\n",
       " 'max_features': 'log2',\n",
       " 'min_samples_leaf': 1,\n",
       " 'min_samples_split': 2,\n",
       " 'n_estimators': 300}"
      ]
     },
     "execution_count": 62,
     "metadata": {},
     "output_type": "execute_result"
    }
   ],
   "source": [
    "best_params"
   ]
  },
  {
   "cell_type": "code",
   "execution_count": 63,
   "metadata": {},
   "outputs": [],
   "source": [
    "best_rf_classifier = grid_search.best_estimator_"
   ]
  },
  {
   "cell_type": "code",
   "execution_count": 69,
   "metadata": {},
   "outputs": [],
   "source": [
    "hrfc_predct = best_rf_classifier.predict(X_test)"
   ]
  },
  {
   "cell_type": "code",
   "execution_count": 71,
   "metadata": {},
   "outputs": [
    {
     "name": "stdout",
     "output_type": "stream",
     "text": [
      "HRF Classification Report\n",
      "                    precision    recall  f1-score   support\n",
      "\n",
      "           Walking       1.00      1.00      1.00       532\n",
      "  Walking Upstairs       1.00      1.00      1.00       491\n",
      "Walking Downstairs       1.00      1.00      1.00       537\n",
      "           Sitting       1.00      1.00      1.00       496\n",
      "          Standing       1.00      1.00      1.00       420\n",
      "            Laying       1.00      1.00      1.00       471\n",
      "\n",
      "          accuracy                           1.00      2947\n",
      "         macro avg       1.00      1.00      1.00      2947\n",
      "      weighted avg       1.00      1.00      1.00      2947\n",
      "\n",
      "Accuracy of HRFC: 1.0\n"
     ]
    }
   ],
   "source": [
    "print(\"HRF Classification Report\")\n",
    "print(classification_report(y, hrfc_predct, target_names=target_names))\n",
    "print(f\"Accuracy of HRFC: {accuracy_score(y, hrfc_predct)}\")"
   ]
  },
  {
   "cell_type": "code",
   "execution_count": 72,
   "metadata": {},
   "outputs": [],
   "source": [
    "import pickle\n",
    "with open('E:\\\\github_clone\\\\human-activity-recognition\\\\models\\\\model.pkl', 'wb') as model_file:\n",
    "    pickle.dump(best_rf_classifier, model_file)"
   ]
  },
  {
   "cell_type": "code",
   "execution_count": null,
   "metadata": {},
   "outputs": [],
   "source": []
  }
 ],
 "metadata": {
  "kernelspec": {
   "display_name": "base",
   "language": "python",
   "name": "python3"
  },
  "language_info": {
   "codemirror_mode": {
    "name": "ipython",
    "version": 3
   },
   "file_extension": ".py",
   "mimetype": "text/x-python",
   "name": "python",
   "nbconvert_exporter": "python",
   "pygments_lexer": "ipython3",
   "version": "3.9.13"
  }
 },
 "nbformat": 4,
 "nbformat_minor": 2
}
