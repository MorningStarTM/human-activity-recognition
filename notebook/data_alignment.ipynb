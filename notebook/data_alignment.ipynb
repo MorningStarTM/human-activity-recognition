{
 "cells": [
  {
   "cell_type": "code",
   "execution_count": 13,
   "metadata": {},
   "outputs": [],
   "source": [
    "import pandas as pd\n",
    "import numpy as np\n",
    "import os\n",
    "from glob import glob\n",
    "from pathlib import Path\n",
    "import shutil"
   ]
  },
  {
   "cell_type": "code",
   "execution_count": 2,
   "metadata": {},
   "outputs": [],
   "source": [
    "path = \"E:\\\\github_clone\\\\human-activity-recognition\\\\data\\\\copy\""
   ]
  },
  {
   "cell_type": "code",
   "execution_count": 39,
   "metadata": {},
   "outputs": [],
   "source": [
    "for i in range(24):\n",
    "    os.makedirs(os.path.join(path, \"person_\"+str(i+1)), exist_ok=True)"
   ]
  },
  {
   "cell_type": "code",
   "execution_count": 40,
   "metadata": {},
   "outputs": [],
   "source": [
    "folders = os.listdir(path)"
   ]
  },
  {
   "cell_type": "code",
   "execution_count": 41,
   "metadata": {},
   "outputs": [
    {
     "data": {
      "text/plain": [
       "'E:\\\\github_clone\\\\human-activity-recognition\\\\data\\\\copy\\\\person_1'"
      ]
     },
     "execution_count": 41,
     "metadata": {},
     "output_type": "execute_result"
    }
   ],
   "source": [
    "os.path.join(path, folders[0])"
   ]
  },
  {
   "cell_type": "code",
   "execution_count": 42,
   "metadata": {},
   "outputs": [],
   "source": [
    "new_folders = ['downstairs', 'jogging', 'sitting', 'standing', 'upstairs', 'walking']"
   ]
  },
  {
   "cell_type": "code",
   "execution_count": 43,
   "metadata": {},
   "outputs": [],
   "source": [
    "for i in range(len(folders)):\n",
    "    for j in new_folders:\n",
    "        os.makedirs(os.path.join(path, folders[i], j), exist_ok=True)"
   ]
  },
  {
   "cell_type": "code",
   "execution_count": 44,
   "metadata": {},
   "outputs": [
    {
     "data": {
      "text/plain": [
       "'1'"
      ]
     },
     "execution_count": 44,
     "metadata": {},
     "output_type": "execute_result"
    }
   ],
   "source": [
    "t = \"E:\\\\github_clone\\\\human-activity-recognition\\\\data\\\\Collected Data\\\\Accelerometer_data\\\\downstairs_1\\\\sub_1.csv\"\n",
    "t.split('\\\\')[-1].split('_')[-1].split('.')[0]"
   ]
  },
  {
   "cell_type": "markdown",
   "metadata": {},
   "source": [
    "# Accelerometer data"
   ]
  },
  {
   "cell_type": "code",
   "execution_count": 45,
   "metadata": {},
   "outputs": [],
   "source": [
    "# Directory containing the CSV files\n",
    "csv_directory = 'E:\\\\github_clone\\\\human-activity-recognition\\\\data\\\\Collected Data\\\\Accelerometer_data\\\\downstairs_1'\n",
    "\n",
    "# Directory containing the \"person_*\" folders\n",
    "person_directory = \"E:\\\\github_clone\\\\human-activity-recognition\\\\data\\\\copy\"\n",
    "\n",
    "# Iterate through each CSV file\n",
    "for csv_file in os.listdir(csv_directory):\n",
    "    if csv_file.endswith(\".csv\"):\n",
    "        # Extract the numeric part of the CSV filename, e.g., \"file1.csv\" -> \"1\"\n",
    "        file_number = csv_file.split('\\\\')[-1].split('_')[-1].split('.')[0]\n",
    "\n",
    "        # Create the corresponding \"person_*\" folder path\n",
    "        person_folder = os.path.join(person_directory, \"person_\" + file_number)\n",
    "        \n",
    "        if os.path.exists(person_folder):\n",
    "            shutil.copy(os.path.join(csv_directory, csv_file), os.path.join(person_folder, \"downstairs\", \"acc.csv\"))"
   ]
  },
  {
   "cell_type": "code",
   "execution_count": 48,
   "metadata": {},
   "outputs": [],
   "source": [
    "# Directory containing the CSV files\n",
    "csv_directory = 'E:\\\\github_clone\\\\human-activity-recognition\\\\data\\\\Collected Data\\\\Accelerometer_data\\\\jogging_9'\n",
    "\n",
    "# Directory containing the \"person_*\" folders\n",
    "person_directory = \"E:\\\\github_clone\\\\human-activity-recognition\\\\data\\\\copy\"\n",
    "\n",
    "# Iterate through each CSV file\n",
    "for csv_file in os.listdir(csv_directory):\n",
    "    if csv_file.endswith(\".csv\"):\n",
    "        # Extract the numeric part of the CSV filename, e.g., \"file1.csv\" -> \"1\"\n",
    "        file_number = csv_file.split('\\\\')[-1].split('_')[-1].split('.')[0]\n",
    "\n",
    "        # Create the corresponding \"person_*\" folder path\n",
    "        person_folder = os.path.join(person_directory, \"person_\" + file_number)\n",
    "        \n",
    "        if os.path.exists(person_folder):\n",
    "            shutil.copy(os.path.join(csv_directory, csv_file), os.path.join(person_folder, new_folders[1], \"acc.csv\"))"
   ]
  },
  {
   "cell_type": "code",
   "execution_count": 50,
   "metadata": {},
   "outputs": [],
   "source": [
    "# Directory containing the CSV files\n",
    "csv_directory = 'E:\\\\github_clone\\\\human-activity-recognition\\\\data\\\\Collected Data\\\\Accelerometer_data\\\\sitting_5'\n",
    "\n",
    "# Directory containing the \"person_*\" folders\n",
    "person_directory = \"E:\\\\github_clone\\\\human-activity-recognition\\\\data\\\\copy\"\n",
    "\n",
    "# Iterate through each CSV file\n",
    "for csv_file in os.listdir(csv_directory):\n",
    "    if csv_file.endswith(\".csv\"):\n",
    "        # Extract the numeric part of the CSV filename, e.g., \"file1.csv\" -> \"1\"\n",
    "        file_number = csv_file.split('\\\\')[-1].split('_')[-1].split('.')[0]\n",
    "\n",
    "        # Create the corresponding \"person_*\" folder path\n",
    "        person_folder = os.path.join(person_directory, \"person_\" + file_number)\n",
    "        \n",
    "        if os.path.exists(person_folder):\n",
    "            shutil.copy(os.path.join(csv_directory, csv_file), os.path.join(person_folder, new_folders[2], \"acc.csv\"))"
   ]
  },
  {
   "cell_type": "code",
   "execution_count": 53,
   "metadata": {},
   "outputs": [],
   "source": [
    "# Directory containing the CSV files\n",
    "csv_directory = 'E:\\\\github_clone\\\\human-activity-recognition\\\\data\\\\Collected Data\\\\Accelerometer_data\\\\standing_6'\n",
    "\n",
    "# Directory containing the \"person_*\" folders\n",
    "person_directory = \"E:\\\\github_clone\\\\human-activity-recognition\\\\data\\\\copy\"\n",
    "\n",
    "# Iterate through each CSV file\n",
    "for csv_file in os.listdir(csv_directory):\n",
    "    if csv_file.endswith(\".csv\"):\n",
    "        # Extract the numeric part of the CSV filename, e.g., \"file1.csv\" -> \"1\"\n",
    "        file_number = csv_file.split('\\\\')[-1].split('_')[-1].split('.')[0]\n",
    "\n",
    "        # Create the corresponding \"person_*\" folder path\n",
    "        person_folder = os.path.join(person_directory, \"person_\" + file_number)\n",
    "        \n",
    "        if os.path.exists(person_folder):\n",
    "            shutil.copy(os.path.join(csv_directory, csv_file), os.path.join(person_folder, new_folders[3], \"acc.csv\"))"
   ]
  },
  {
   "cell_type": "code",
   "execution_count": 56,
   "metadata": {},
   "outputs": [],
   "source": [
    "# Directory containing the CSV files\n",
    "csv_directory = 'E:\\\\github_clone\\\\human-activity-recognition\\\\data\\\\Collected Data\\\\Accelerometer_data\\\\upstairs_3'\n",
    "\n",
    "# Directory containing the \"person_*\" folders\n",
    "person_directory = \"E:\\\\github_clone\\\\human-activity-recognition\\\\data\\\\copy\"\n",
    "\n",
    "# Iterate through each CSV file\n",
    "for csv_file in os.listdir(csv_directory):\n",
    "    if csv_file.endswith(\".csv\"):\n",
    "        # Extract the numeric part of the CSV filename, e.g., \"file1.csv\" -> \"1\"\n",
    "        file_number = csv_file.split('\\\\')[-1].split('_')[-1].split('.')[0]\n",
    "\n",
    "        # Create the corresponding \"person_*\" folder path\n",
    "        person_folder = os.path.join(person_directory, \"person_\" + file_number)\n",
    "        \n",
    "        if os.path.exists(person_folder):\n",
    "            shutil.copy(os.path.join(csv_directory, csv_file), os.path.join(person_folder, new_folders[4], \"acc.csv\"))"
   ]
  },
  {
   "cell_type": "code",
   "execution_count": 59,
   "metadata": {},
   "outputs": [],
   "source": [
    "# Directory containing the CSV files\n",
    "csv_directory = 'E:\\\\github_clone\\\\human-activity-recognition\\\\data\\\\Collected Data\\\\Accelerometer_data\\\\walking_8'\n",
    "\n",
    "# Directory containing the \"person_*\" folders\n",
    "person_directory = \"E:\\\\github_clone\\\\human-activity-recognition\\\\data\\\\copy\"\n",
    "\n",
    "# Iterate through each CSV file\n",
    "for csv_file in os.listdir(csv_directory):\n",
    "    if csv_file.endswith(\".csv\"):\n",
    "        # Extract the numeric part of the CSV filename, e.g., \"file1.csv\" -> \"1\"\n",
    "        file_number = csv_file.split('\\\\')[-1].split('_')[-1].split('.')[0]\n",
    "\n",
    "        # Create the corresponding \"person_*\" folder path\n",
    "        person_folder = os.path.join(person_directory, \"person_\" + file_number)\n",
    "        \n",
    "        if os.path.exists(person_folder):\n",
    "            shutil.copy(os.path.join(csv_directory, csv_file), os.path.join(person_folder, new_folders[5], \"acc.csv\"))"
   ]
  },
  {
   "cell_type": "markdown",
   "metadata": {},
   "source": [
    "# Gyroscope Data"
   ]
  },
  {
   "cell_type": "code",
   "execution_count": 62,
   "metadata": {},
   "outputs": [],
   "source": [
    "# Directory containing the CSV files\n",
    "csv_directory = 'E:\\\\github_clone\\\\human-activity-recognition\\\\data\\\\Collected Data\\\\Gyroscope_data\\\\downstairs_1'\n",
    "\n",
    "# Directory containing the \"person_*\" folders\n",
    "person_directory = \"E:\\\\github_clone\\\\human-activity-recognition\\\\data\\\\copy\"\n",
    "\n",
    "# Iterate through each CSV file\n",
    "for csv_file in os.listdir(csv_directory):\n",
    "    if csv_file.endswith(\".csv\"):\n",
    "        # Extract the numeric part of the CSV filename, e.g., \"file1.csv\" -> \"1\"\n",
    "        file_number = csv_file.split('\\\\')[-1].split('_')[-1].split('.')[0]\n",
    "\n",
    "        # Create the corresponding \"person_*\" folder path\n",
    "        person_folder = os.path.join(person_directory, \"person_\" + file_number)\n",
    "        \n",
    "        if os.path.exists(person_folder):\n",
    "            shutil.copy(os.path.join(csv_directory, csv_file), os.path.join(person_folder, new_folders[0], \"gyro.csv\"))"
   ]
  },
  {
   "cell_type": "code",
   "execution_count": 65,
   "metadata": {},
   "outputs": [],
   "source": [
    "# Directory containing the CSV files\n",
    "csv_directory = 'E:\\\\github_clone\\\\human-activity-recognition\\\\data\\\\Collected Data\\\\Gyroscope_data\\\\jogging_9'\n",
    "\n",
    "# Directory containing the \"person_*\" folders\n",
    "person_directory = \"E:\\\\github_clone\\\\human-activity-recognition\\\\data\\\\copy\"\n",
    "\n",
    "# Iterate through each CSV file\n",
    "for csv_file in os.listdir(csv_directory):\n",
    "    if csv_file.endswith(\".csv\"):\n",
    "        # Extract the numeric part of the CSV filename, e.g., \"file1.csv\" -> \"1\"\n",
    "        file_number = csv_file.split('\\\\')[-1].split('_')[-1].split('.')[0]\n",
    "\n",
    "        # Create the corresponding \"person_*\" folder path\n",
    "        person_folder = os.path.join(person_directory, \"person_\" + file_number)\n",
    "        \n",
    "        if os.path.exists(person_folder):\n",
    "            shutil.copy(os.path.join(csv_directory, csv_file), os.path.join(person_folder, new_folders[1], \"gyro.csv\"))"
   ]
  },
  {
   "cell_type": "code",
   "execution_count": 70,
   "metadata": {},
   "outputs": [],
   "source": [
    "# Directory containing the CSV files\n",
    "csv_directory = 'E:\\\\github_clone\\\\human-activity-recognition\\\\data\\\\Collected Data\\\\Gyroscope_data\\\\sitting_5'\n",
    "\n",
    "# Directory containing the \"person_*\" folders\n",
    "person_directory = \"E:\\\\github_clone\\\\human-activity-recognition\\\\data\\\\copy\"\n",
    "\n",
    "# Iterate through each CSV file\n",
    "for csv_file in os.listdir(csv_directory):\n",
    "    if csv_file.endswith(\".csv\"):\n",
    "        # Extract the numeric part of the CSV filename, e.g., \"file1.csv\" -> \"1\"\n",
    "        file_number = csv_file.split('\\\\')[-1].split('_')[-1].split('.')[0]\n",
    "\n",
    "        # Create the corresponding \"person_*\" folder path\n",
    "        person_folder = os.path.join(person_directory, \"person_\" + file_number)\n",
    "        \n",
    "        if os.path.exists(person_folder):\n",
    "            shutil.copy(os.path.join(csv_directory, csv_file), os.path.join(person_folder, new_folders[2], \"gyro.csv\"))"
   ]
  },
  {
   "cell_type": "code",
   "execution_count": 71,
   "metadata": {},
   "outputs": [],
   "source": [
    "# Directory containing the CSV files\n",
    "csv_directory = 'E:\\\\github_clone\\\\human-activity-recognition\\\\data\\\\Collected Data\\\\Gyroscope_data\\\\standing_6'\n",
    "\n",
    "# Directory containing the \"person_*\" folders\n",
    "person_directory = \"E:\\\\github_clone\\\\human-activity-recognition\\\\data\\\\copy\"\n",
    "\n",
    "# Iterate through each CSV file\n",
    "for csv_file in os.listdir(csv_directory):\n",
    "    if csv_file.endswith(\".csv\"):\n",
    "        # Extract the numeric part of the CSV filename, e.g., \"file1.csv\" -> \"1\"\n",
    "        file_number = csv_file.split('\\\\')[-1].split('_')[-1].split('.')[0]\n",
    "\n",
    "        # Create the corresponding \"person_*\" folder path\n",
    "        person_folder = os.path.join(person_directory, \"person_\" + file_number)\n",
    "        \n",
    "        if os.path.exists(person_folder):\n",
    "            shutil.copy(os.path.join(csv_directory, csv_file), os.path.join(person_folder, new_folders[3], \"gyro.csv\"))"
   ]
  },
  {
   "cell_type": "code",
   "execution_count": 73,
   "metadata": {},
   "outputs": [],
   "source": [
    "# Directory containing the CSV files\n",
    "csv_directory = 'E:\\\\github_clone\\\\human-activity-recognition\\\\data\\\\Collected Data\\\\Gyroscope_data\\\\upstairs_3'\n",
    "\n",
    "# Directory containing the \"person_*\" folders\n",
    "person_directory = \"E:\\\\github_clone\\\\human-activity-recognition\\\\data\\\\copy\"\n",
    "\n",
    "# Iterate through each CSV file\n",
    "for csv_file in os.listdir(csv_directory):\n",
    "    if csv_file.endswith(\".csv\"):\n",
    "        # Extract the numeric part of the CSV filename, e.g., \"file1.csv\" -> \"1\"\n",
    "        file_number = csv_file.split('\\\\')[-1].split('_')[-1].split('.')[0]\n",
    "\n",
    "        # Create the corresponding \"person_*\" folder path\n",
    "        person_folder = os.path.join(person_directory, \"person_\" + file_number)\n",
    "        \n",
    "        if os.path.exists(person_folder):\n",
    "            shutil.copy(os.path.join(csv_directory, csv_file), os.path.join(person_folder, new_folders[4], \"gyro.csv\"))"
   ]
  },
  {
   "cell_type": "code",
   "execution_count": 74,
   "metadata": {},
   "outputs": [],
   "source": [
    "# Directory containing the CSV files\n",
    "csv_directory = 'E:\\\\github_clone\\\\human-activity-recognition\\\\data\\\\Collected Data\\\\Gyroscope_data\\\\walking_8'\n",
    "\n",
    "# Directory containing the \"person_*\" folders\n",
    "person_directory = \"E:\\\\github_clone\\\\human-activity-recognition\\\\data\\\\copy\"\n",
    "\n",
    "# Iterate through each CSV file\n",
    "for csv_file in os.listdir(csv_directory):\n",
    "    if csv_file.endswith(\".csv\"):\n",
    "        # Extract the numeric part of the CSV filename, e.g., \"file1.csv\" -> \"1\"\n",
    "        file_number = csv_file.split('\\\\')[-1].split('_')[-1].split('.')[0]\n",
    "\n",
    "        # Create the corresponding \"person_*\" folder path\n",
    "        person_folder = os.path.join(person_directory, \"person_\" + file_number)\n",
    "        \n",
    "        if os.path.exists(person_folder):\n",
    "            shutil.copy(os.path.join(csv_directory, csv_file), os.path.join(person_folder, new_folders[5], \"gyro.csv\"))"
   ]
  },
  {
   "cell_type": "code",
   "execution_count": null,
   "metadata": {},
   "outputs": [],
   "source": []
  }
 ],
 "metadata": {
  "kernelspec": {
   "display_name": "base",
   "language": "python",
   "name": "python3"
  },
  "language_info": {
   "codemirror_mode": {
    "name": "ipython",
    "version": 3
   },
   "file_extension": ".py",
   "mimetype": "text/x-python",
   "name": "python",
   "nbconvert_exporter": "python",
   "pygments_lexer": "ipython3",
   "version": "3.9.13"
  }
 },
 "nbformat": 4,
 "nbformat_minor": 2
}
